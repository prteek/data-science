{
 "cells": [
  {
   "cell_type": "markdown",
   "metadata": {},
   "source": [
    "# Statistics\n",
    "##### Facts are stubborn, but statistics are more pliable - Mark Twain"
   ]
  },
  {
   "cell_type": "code",
   "execution_count": null,
   "metadata": {},
   "outputs": [],
   "source": [
    "# Describing a Single Set of data\n",
    "\n",
    "%run ./LinearAlgebra.ipynb # import functions defined in linear algebra\n",
    "import random as random\n",
    "import matplotlib.pyplot as plt\n",
    "import math\n",
    "from collections import Counter\n",
    "\n",
    "# Exponential distribution with max value 100\n",
    "num_friends = [100//(random.choice(range(9))+1) for _ in range(200)]\n",
    "\n",
    "# Plot histogram\n",
    "plt.hist(num_friends)\n",
    "plt.show()\n",
    "\n",
    "num_points      = len(num_friends)\n",
    "largest_value   = max(num_friends)\n",
    "smallest_value  = min(num_friends)\n",
    "print(num_points, largest_value, smallest_value)\n",
    "\n",
    "sorted_values   = sorted(num_friends)\n",
    "smallest_value  = sorted_values[0]\n",
    "second_largest_value = sorted_values[-2]"
   ]
  },
  {
   "cell_type": "code",
   "execution_count": null,
   "metadata": {},
   "outputs": [],
   "source": [
    "# Central tendencies\n",
    "\n",
    "def mean(x):\n",
    "    return sum(x)/len(x)\n",
    "\n",
    "def median(x):\n",
    "    n            = len(x)\n",
    "    sorted_x     = sorted(x)\n",
    "    middle_point = n//2\n",
    "    if n%2 != 0: #  \n",
    "        return sorted_x[middle_point]\n",
    "    else:\n",
    "        point1       = middle_point-1\n",
    "        point2       = middle_point\n",
    "        return(mean([sorted_x[point1], sorted_x[point2]]))\n",
    "\n",
    "def quantile(x, p):\n",
    "    \"\"\"returns pth percentile value in x\"\"\"\n",
    "    p_index = int(len(x)*p)\n",
    "    return sorted(x)[p_index]\n",
    "\n",
    "def mode(x):\n",
    "    \"\"\"returns a list, might be more than one mode\"\"\"\n",
    "    counts = Counter(x)\n",
    "    max_count = max(counts.values())\n",
    "    return [x_i for x_i, count in counts.items() if count == max_count]"
   ]
  },
  {
   "cell_type": "code",
   "execution_count": null,
   "metadata": {},
   "outputs": [],
   "source": [
    "# Dispersion\n",
    "\n",
    "def data_range(x):\n",
    "    return max(x) - min(x)\n",
    "\n",
    "def de_mean(x):\n",
    "    x_bar = mean(x)\n",
    "    return [x_i - x_bar for x_i in x]\n",
    "\n",
    "def variance(x):\n",
    "    n = len(x)\n",
    "    deviations = de_mean(x)\n",
    "    return sum_of_squares(deviations)/(n-1)\n",
    "\n",
    "def standard_deviation(x):\n",
    "    return math.sqrt(variance(x))\n",
    "\n",
    "def interquartile_range(x):\n",
    "    return quantile(x,0.75) - quantile(x,0.25)\n",
    "\n",
    "def fns(x):\n",
    "    \"\"\"five number summary\"\"\"\n",
    "    return min(x), quantile(x,0.25), quantile(x,0.5), quantile(x,0.75), max(x)"
   ]
  },
  {
   "cell_type": "code",
   "execution_count": null,
   "metadata": {},
   "outputs": [],
   "source": [
    "# Correlation\n",
    "\n",
    "def covariance(x,y):\n",
    "    n = len(x)\n",
    "    return dot(de_mean(x),de_mean(y))/(n-1)\n",
    "\n",
    "def correlation(x,y):\n",
    "    stdev_x = standard_deviation(x)\n",
    "    stdev_y = standard_deviation(y)\n",
    "    if stdev_x > 0 and stdev_y > 0:\n",
    "        return covariance(x,y)/(stdev_x*stdev_y)\n",
    "    else:\n",
    "        return 0\n",
    "    "
   ]
  },
  {
   "cell_type": "code",
   "execution_count": null,
   "metadata": {},
   "outputs": [],
   "source": [
    "# Remove outliers\n",
    "\n",
    "non_outlier_indices    = [i for i, x_i in enumerate(num_friends) if x_i!=100] # index of non outlier value = 100\n",
    "num_friends_good       = [x_i for i, x_i in enumerate(num_friends) if i in non_outlier_indices]"
   ]
  }
 ],
 "metadata": {
  "kernelspec": {
   "display_name": "Python 3",
   "language": "python",
   "name": "python3"
  },
  "language_info": {
   "codemirror_mode": {
    "name": "ipython",
    "version": 3
   },
   "file_extension": ".py",
   "mimetype": "text/x-python",
   "name": "python",
   "nbconvert_exporter": "python",
   "pygments_lexer": "ipython3",
   "version": "3.5.3"
  },
  "varInspector": {
   "cols": {
    "lenName": 16,
    "lenType": 16,
    "lenVar": 40
   },
   "kernels_config": {
    "python": {
     "delete_cmd_postfix": "",
     "delete_cmd_prefix": "del ",
     "library": "var_list.py",
     "varRefreshCmd": "print(var_dic_list())"
    },
    "r": {
     "delete_cmd_postfix": ") ",
     "delete_cmd_prefix": "rm(",
     "library": "var_list.r",
     "varRefreshCmd": "cat(var_dic_list()) "
    }
   },
   "types_to_exclude": [
    "module",
    "function",
    "builtin_function_or_method",
    "instance",
    "_Feature"
   ],
   "window_display": false
  }
 },
 "nbformat": 4,
 "nbformat_minor": 2
}
