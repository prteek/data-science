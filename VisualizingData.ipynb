{
 "cells": [
  {
   "cell_type": "markdown",
   "metadata": {},
   "source": [
    "# Visualizing Data \n",
    "##### I believe that visualization is one of the most powerful means of achieving personal goals. -Harvey Mackay"
   ]
  },
  {
   "cell_type": "code",
   "execution_count": null,
   "metadata": {},
   "outputs": [],
   "source": [
    "# matplotlib: check also seaborn\n",
    "\n",
    "from matplotlib import pyplot as plt\n",
    "\n",
    "years = [1950, 1960, 1970, 1980, 1990, 2000, 2010]\n",
    "gdp = [300.2, 543.3, 1075.9, 2862.5, 5979.6, 10289.7, 14958.3]\n",
    "\n",
    "plt.plot(years, gdp, color='green', marker='o', linestyle='solid')\n",
    "plt.title('Nominal GDP')\n",
    "plt.ylabel('Billions of $')\n",
    "plt.xlabel('years')\n",
    "plt.grid()"
   ]
  },
  {
   "cell_type": "code",
   "execution_count": null,
   "metadata": {},
   "outputs": [],
   "source": [
    "# Bar Charts\n",
    "\n",
    "movies = [\"Annie Hall\", \"Ben-Hur\", \"Casablanca\", \"Gandhi\", \"West Side Story\"]\n",
    "num_oscars = [5, 11, 3, 8, 10]\n",
    "\n",
    "xs = [i + 0.5 for i,_ in enumerate(movies)] # Offset x by 0.5 to the left so that each bar is centered\n",
    "# plot bars with center x co-ordinates [xs], heights [num_oscars] and width = 0.8\n",
    "plt.bar(xs, num_oscars,0.8)\n",
    "plt.title(\"Book author's favourite movies\")\n",
    "plt.ylabel(\"# of Academy awards\")\n",
    "plt.xticks([i+0.5 for i,_ in enumerate(movies)],movies)\n",
    "plt.grid()"
   ]
  },
  {
   "cell_type": "code",
   "execution_count": null,
   "metadata": {},
   "outputs": [],
   "source": [
    "# Histograms\n",
    "\n",
    "grades = [83,95,91,87,70,0,85,82,100,67,73,77,0]\n",
    "decile = [grade // 10 * 10 for grade in grades]\n",
    "\n",
    "num_bins = 10\n",
    "n, bins, _ = plt.hist(decile, num_bins)\n",
    "plt.title('Distribution of exam grades')\n",
    "plt.xlabel('Exam grades')\n",
    "plt.ylabel('Number of students')\n",
    "\n",
    "print(\"counts:\", n, \"bin edges:\", bins)"
   ]
  },
  {
   "cell_type": "code",
   "execution_count": null,
   "metadata": {},
   "outputs": [],
   "source": [
    "# Line Charts\n",
    "\n",
    "variance     = [1, 2, 4, 8, 16, 32, 64, 128, 256]\n",
    "bias_squared = [256, 128, 64, 32, 16, 8, 4, 2, 1]\n",
    "total_error  = [x+y for x,y in zip(variance,bias_squared)]\n",
    "xs = [i for i,_ in enumerate(variance)]\n",
    "\n",
    "# we can make multiple calls to plt.plot\n",
    "# to show multiple series on same chart. Kind of like MATLAB \"hold on\"\n",
    "plt.plot(xs, variance, \"g-\",label=\"variance\")\n",
    "plt.plot(xs, bias_squared, \"r-.\",label=\"bias^2\")\n",
    "plt.plot(xs, total_error, \"b:\",label=\"total error\")\n",
    "plt.title(\"The bias-variance trade off\")\n",
    "plt.xlabel('model complexity')\n",
    "plt.ylabel('values')\n",
    "plt.legend(loc=\"upper center\")\n",
    "plt.grid()\n"
   ]
  },
  {
   "cell_type": "code",
   "execution_count": null,
   "metadata": {},
   "outputs": [],
   "source": [
    "# Scatterplots: Beware of automatic axis limits\n",
    "\n",
    "friends = [ 70,  65,  72,  63,  71,  64,  60,  64,  67]\n",
    "minutes = [175, 170, 205, 120, 220, 130, 105, 145, 190]\n",
    "labels =  ['a', 'b', 'c', 'd', 'e', 'f', 'g', 'h', 'i']\n",
    "\n",
    "plt.scatter(friends,minutes)\n",
    "# label each point\n",
    "for label, friend_count, minute_count in zip(labels,friends,minutes):\n",
    "    plt.annotate(label, \n",
    "                 xy=(friend_count,minute_count), # Put the label with its point\n",
    "                 xytext=(10,-10), # but slightly offset\n",
    "                 textcoords='offset points')\n",
    "plt.title(\"Number of friends vs Daily minutes\")\n",
    "plt.xlabel(\"# of friends\")\n",
    "plt.ylabel(\"daily minutes spent on the site\")\n",
    "# Beware of automatic axis limits\n",
    "plt.axis([0,250,0,250])\n",
    "plt.grid()"
   ]
  }
 ],
 "metadata": {
  "kernelspec": {
   "display_name": "Python 3",
   "language": "python",
   "name": "python3"
  },
  "language_info": {
   "codemirror_mode": {
    "name": "ipython",
    "version": 3
   },
   "file_extension": ".py",
   "mimetype": "text/x-python",
   "name": "python",
   "nbconvert_exporter": "python",
   "pygments_lexer": "ipython3",
   "version": "3.5.3"
  },
  "varInspector": {
   "cols": {
    "lenName": 16,
    "lenType": 16,
    "lenVar": 40
   },
   "kernels_config": {
    "python": {
     "delete_cmd_postfix": "",
     "delete_cmd_prefix": "del ",
     "library": "var_list.py",
     "varRefreshCmd": "print(var_dic_list())"
    },
    "r": {
     "delete_cmd_postfix": ") ",
     "delete_cmd_prefix": "rm(",
     "library": "var_list.r",
     "varRefreshCmd": "cat(var_dic_list()) "
    }
   },
   "types_to_exclude": [
    "module",
    "function",
    "builtin_function_or_method",
    "instance",
    "_Feature"
   ],
   "window_display": false
  }
 },
 "nbformat": 4,
 "nbformat_minor": 2
}
