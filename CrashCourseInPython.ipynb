{
 "cells": [
  {
   "cell_type": "markdown",
   "metadata": {},
   "source": [
    "# A crash course in python\n",
    "##### People are still crazy about Python after twenty-five years, which I find hard to believe. -Michael Palin"
   ]
  },
  {
   "cell_type": "code",
   "execution_count": null,
   "metadata": {},
   "outputs": [],
   "source": [
    "# The Zen of Python\n",
    "\n",
    "import this"
   ]
  },
  {
   "cell_type": "code",
   "execution_count": null,
   "metadata": {},
   "outputs": [],
   "source": [
    "# Module\n",
    "\n",
    "# import module itself\n",
    "import re\n",
    "my_regex = re.compile(\"[0-9]+\", re.I)\n",
    "print(my_regex)\n",
    "\n",
    "# import as an alias\n",
    "import re as regex\n",
    "my_regex = regex.compile(\"[0-9]+\", regex.I)\n",
    "print(my_regex)\n",
    "\n",
    "# import specific values from a module\n",
    "from collections import defaultdict, Counter\n",
    "lookup = defaultdict(int)\n",
    "my_counter = Counter()\n",
    "print(lookup, my_counter)\n",
    "\n",
    "# (Not advised) Import the entire contents of a module\n",
    "match = 8\n",
    "from re import * # re has a match function\n",
    "print(match)"
   ]
  },
  {
   "cell_type": "code",
   "execution_count": null,
   "metadata": {
    "slideshow": {
     "slide_type": "-"
    }
   },
   "outputs": [],
   "source": [
    "# Arithmetic\n",
    "\n",
    "print(\"Normal division:\", 5/2) # works by default in Python 3, in Python 2 use from __future__ import division\n",
    "print(\"Integer division:\", 5//2)"
   ]
  },
  {
   "cell_type": "code",
   "execution_count": null,
   "metadata": {},
   "outputs": [],
   "source": [
    "# Functions\n",
    "\n",
    "def double(x):\n",
    "    \"\"\"This function doubles the input values.\n",
    "    Also triple quotes allow multiline comments.\"\"\"\n",
    "    return x+x\n",
    "\n",
    "# Pass functions to functions\n",
    "def apply_to_one(f):\n",
    "    \"\"\"Calls the functions f with 1 as its argument\"\"\"\n",
    "    return f(1)\n",
    "\n",
    "my_double = double\n",
    "x         = apply_to_one(my_double)\n",
    "print(\"x equals:\",x)\n",
    "\n",
    "# Anomymous functions or lambdas\n",
    "y = apply_to_one(lambda x: x+4)\n",
    "print(\"y equals:\",y)\n",
    "\n",
    "another_double = lambda x: x*2    # Not recommended ?\n",
    "def another_double(x): return 2*x # Recommended\n",
    "\n",
    "# Default arguments\n",
    "def my_print(message=\"default message\"): print(message)\n",
    "    \n",
    "my_print(\"Not default message\")\n",
    "my_print()\n",
    "\n",
    "# Arguments by name\n",
    "def subtract(a=0,b=0): return a-b\n",
    "\n",
    "print(\"9-5=\",subtract(9,b=5))\n",
    "print(\"0-3=\",subtract(5))"
   ]
  },
  {
   "cell_type": "code",
   "execution_count": null,
   "metadata": {},
   "outputs": [],
   "source": [
    "# Strings\n",
    "\n",
    "print('You can have single quoted string')\n",
    "print(\"I can have double quoted string\")\n",
    "\n",
    "# Encode special characters using \"\\\"\n",
    "this_is_a_tab = \"\\t\"\n",
    "print(\"You can't see a tab or John Cena:\", this_is_a_tab)\n",
    "\n",
    "# Create raw strings using r\"\"\n",
    "not_a_tab     = r\"\\t\"\n",
    "print(\"You're not fooling anyone:\", not_a_tab)"
   ]
  },
  {
   "cell_type": "code",
   "execution_count": null,
   "metadata": {},
   "outputs": [],
   "source": [
    "# Exceptions\n",
    "\n",
    "try:\n",
    "    print(0/0)\n",
    "except ZeroDivisionError:\n",
    "    print(\"ZeroByZero is a sin\")"
   ]
  },
  {
   "cell_type": "code",
   "execution_count": null,
   "metadata": {
    "scrolled": false
   },
   "outputs": [],
   "source": [
    "# Lists: An ordered collection. Much like cells in MATLAB\n",
    "\n",
    "integer_list = [1,2,3]\n",
    "heterogeneous_list = [\"string\", 0.1, True]\n",
    "list_of_list = [integer_list, heterogeneous_list, []]\n",
    "print(\"List length:\", len(integer_list))\n",
    "print(\"List sum:\", sum(integer_list))\n",
    "\n",
    "# Indexing\n",
    "x = [2*i+3 for i in range(10)]\n",
    "print(\"x is:\",x)\n",
    "print(\"zero =\", x[0])\n",
    "print(\"one =\", x[1])\n",
    "print(\"last =\", x[-1])\n",
    "print(\"secondLast =\", x[-2])\n",
    "\n",
    "# Slicing Lists\n",
    "print(\"first_three =\", x[:3])\n",
    "print(\"four_to_end =\", x[3:])\n",
    "print(\"one_to_four =\", x[1:5])\n",
    "print(\"last_three =\", x[-3:])\n",
    "\n",
    "# Check for list membership. Checks all elements one by one so not recommended for long lists\n",
    "print(\"Check for membership:\", 9 in x)\n",
    "\n",
    "# Concatenate lists: Extend\n",
    "x = [1,2,3]\n",
    "print(\"Old list:\", x)\n",
    "x.extend([4,5,6])\n",
    "print(\"Extended list:\", x)\n",
    "\n",
    "# Concatenate lists: Add (to not modify original list)\n",
    "x = [1,2,3]\n",
    "print(\"Old list:\", x)\n",
    "y = x + [10,20,30]\n",
    "print(\"List added to old list:\", y)\n",
    "\n",
    "# Append one item at a time\n",
    "x = [1,2,3]\n",
    "print(\"Old list:\", x)\n",
    "x.append(0)\n",
    "print(\"Appended at the end:\", x)\n",
    "\n",
    "# Unpack lists\n",
    "x, y = [10, 20]\n",
    "print(\"x=\",x, \"y=\",y)\n",
    "\n",
    "try:\n",
    "    x, y = [100, 200, 300]\n",
    "except:\n",
    "    print(\"Error: LHS should have same number of elements as RHS\")\n",
    "\n",
    "_, y = [\"string\", [0.1, True]]\n",
    "print(\"y is now:\", y)"
   ]
  },
  {
   "cell_type": "code",
   "execution_count": null,
   "metadata": {},
   "outputs": [],
   "source": [
    "# Tuples: Pretty much list, except immutable\n",
    "\n",
    "this_is_a_tuple = (1,3)\n",
    "also_a_tuple    = 4,5\n",
    "\n",
    "try:\n",
    "    this_is_a_tuple[1] = 2\n",
    "except TypeError:\n",
    "    print(\"Like I said, immutable\")\n",
    "    \n",
    "# Tuples are a convenient way to return multiple values (not as list or tuple) from a function\n",
    "def do_two_things(x,y): return x+y, x-y # Essentially also tuples\n",
    "s, d = do_two_things(6,2)\n",
    "print(\"s:\",s,\"d:\",d,\"s+d:\",s+d)\n",
    "\n",
    "def do_two_things_not_quite(x,y): return [x+y],[x-y]\n",
    "s, d = do_two_things_not_quite(6,2)\n",
    "print(\"s:\",s,\"d:\",d,\"s+d:\",s+d)\n",
    "\n",
    "x, y = 1, 10\n",
    "y, x = x, y # Pythonic way to swap\n"
   ]
  }
 ],
 "metadata": {
  "kernelspec": {
   "display_name": "Python 3",
   "language": "python",
   "name": "python3"
  },
  "language_info": {
   "codemirror_mode": {
    "name": "ipython",
    "version": 3
   },
   "file_extension": ".py",
   "mimetype": "text/x-python",
   "name": "python",
   "nbconvert_exporter": "python",
   "pygments_lexer": "ipython3",
   "version": "3.5.3"
  },
  "varInspector": {
   "cols": {
    "lenName": 16,
    "lenType": 16,
    "lenVar": 40
   },
   "kernels_config": {
    "python": {
     "delete_cmd_postfix": "",
     "delete_cmd_prefix": "del ",
     "library": "var_list.py",
     "varRefreshCmd": "print(var_dic_list())"
    },
    "r": {
     "delete_cmd_postfix": ") ",
     "delete_cmd_prefix": "rm(",
     "library": "var_list.r",
     "varRefreshCmd": "cat(var_dic_list()) "
    }
   },
   "types_to_exclude": [
    "module",
    "function",
    "builtin_function_or_method",
    "instance",
    "_Feature"
   ],
   "window_display": false
  }
 },
 "nbformat": 4,
 "nbformat_minor": 2
}
