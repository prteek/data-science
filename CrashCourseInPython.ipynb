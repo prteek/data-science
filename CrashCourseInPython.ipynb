{
 "cells": [
  {
   "cell_type": "markdown",
   "metadata": {},
   "source": [
    "# A crash course in python\n",
    "##### People are still crazy about Python after twenty-five years, which I find hard to believe. -Michael Palin"
   ]
  },
  {
   "cell_type": "code",
   "execution_count": null,
   "metadata": {},
   "outputs": [],
   "source": [
    "# The Zen of Python\n",
    "\n",
    "import this"
   ]
  },
  {
   "cell_type": "code",
   "execution_count": null,
   "metadata": {},
   "outputs": [],
   "source": [
    "# Module\n",
    "\n",
    "# import module itself\n",
    "import re\n",
    "my_regex = re.compile(\"[0-9]+\", re.I)\n",
    "print(my_regex)\n",
    "\n",
    "# import as an alias\n",
    "import re as regex\n",
    "my_regex = regex.compile(\"[0-9]+\", regex.I)\n",
    "print(my_regex)\n",
    "\n",
    "# import specific values from a module\n",
    "from collections import defaultdict, Counter\n",
    "lookup = defaultdict(int)\n",
    "my_counter = Counter()\n",
    "print(lookup, my_counter)\n",
    "\n",
    "# (Not advised) Import the entire contents of a module\n",
    "match = 8\n",
    "from re import * # re has a match function\n",
    "print(match)"
   ]
  },
  {
   "cell_type": "code",
   "execution_count": 67,
   "metadata": {},
   "outputs": [
    {
     "name": "stdout",
     "output_type": "stream",
     "text": [
      "Normal division: 2.5\n",
      "Integer division: 2\n"
     ]
    }
   ],
   "source": [
    "# Arithmetic\n",
    "\n",
    "print(\"Normal division:\", 5/2) # works by default in Python 3, in Python 2 use from __future__ import division\n",
    "print(\"Integer division:\", 5//2)"
   ]
  },
  {
   "cell_type": "code",
   "execution_count": 82,
   "metadata": {},
   "outputs": [
    {
     "name": "stdout",
     "output_type": "stream",
     "text": [
      "x equals: 2\n",
      "y equals: 5\n",
      "Not default message\n",
      "default message\n",
      "9-5= 4\n",
      "0-3= 5\n"
     ]
    }
   ],
   "source": [
    "# Functions\n",
    "\n",
    "def double(x):\n",
    "    \"\"\"This function doubles the input values.\n",
    "    Also triple quotes allow multiline comments.\"\"\"\n",
    "    return x+x\n",
    "\n",
    "# Pass functions to functions\n",
    "def apply_to_one(f):\n",
    "    \"\"\"Calls the functions f with 1 as its argument\"\"\"\n",
    "    return f(1)\n",
    "\n",
    "my_double = double\n",
    "x         = apply_to_one(my_double)\n",
    "print(\"x equals:\",x)\n",
    "\n",
    "# Anomymous functions or lambdas\n",
    "y = apply_to_one(lambda x: x+4)\n",
    "print(\"y equals:\",y)\n",
    "\n",
    "another_double = lambda x: x*2    # Not recommended ?\n",
    "def another_double(x): return 2*x # Recommended\n",
    "\n",
    "# Default arguments\n",
    "def my_print(message=\"default message\"): print(message)\n",
    "    \n",
    "my_print(\"Not default message\")\n",
    "my_print()\n",
    "\n",
    "# Arguments by name\n",
    "def subtract(a=0,b=0): return a-b\n",
    "\n",
    "print(\"9-5=\",subtract(9,b=5))\n",
    "print(\"0-3=\",subtract(5))"
   ]
  },
  {
   "cell_type": "code",
   "execution_count": 85,
   "metadata": {},
   "outputs": [
    {
     "name": "stdout",
     "output_type": "stream",
     "text": [
      "You can have single quoted string\n",
      "I can have double quoted string\n",
      "You can't see a tab or John Cena: \t\n",
      "You're not fooling anyone: \\t\n"
     ]
    }
   ],
   "source": [
    "# Strings\n",
    "\n",
    "print('You can have single quoted string')\n",
    "print(\"I can have double quoted string\")\n",
    "\n",
    "# Encode special characters using \"\\\"\n",
    "this_is_a_tab = \"\\t\"\n",
    "print(\"You can't see a tab or John Cena:\", this_is_a_tab)\n",
    "\n",
    "# Create raw strings using r\"\"\n",
    "not_a_tab     = r\"\\t\"\n",
    "print(\"You're not fooling anyone:\", not_a_tab)"
   ]
  },
  {
   "cell_type": "code",
   "execution_count": null,
   "metadata": {},
   "outputs": [],
   "source": []
  }
 ],
 "metadata": {
  "kernelspec": {
   "display_name": "Python 3",
   "language": "python",
   "name": "python3"
  },
  "language_info": {
   "codemirror_mode": {
    "name": "ipython",
    "version": 3
   },
   "file_extension": ".py",
   "mimetype": "text/x-python",
   "name": "python",
   "nbconvert_exporter": "python",
   "pygments_lexer": "ipython3",
   "version": "3.5.3"
  },
  "varInspector": {
   "cols": {
    "lenName": 16,
    "lenType": 16,
    "lenVar": 40
   },
   "kernels_config": {
    "python": {
     "delete_cmd_postfix": "",
     "delete_cmd_prefix": "del ",
     "library": "var_list.py",
     "varRefreshCmd": "print(var_dic_list())"
    },
    "r": {
     "delete_cmd_postfix": ") ",
     "delete_cmd_prefix": "rm(",
     "library": "var_list.r",
     "varRefreshCmd": "cat(var_dic_list()) "
    }
   },
   "types_to_exclude": [
    "module",
    "function",
    "builtin_function_or_method",
    "instance",
    "_Feature"
   ],
   "window_display": false
  }
 },
 "nbformat": 4,
 "nbformat_minor": 2
}
