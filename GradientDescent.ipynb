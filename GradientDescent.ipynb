{
  "nbformat": 4,
  "nbformat_minor": 0,
  "metadata": {
    "colab": {
      "name": "GradientDescent.ipynb",
      "provenance": [],
      "collapsed_sections": [],
      "include_colab_link": true
    },
    "kernelspec": {
      "display_name": "Python 3",
      "language": "python",
      "name": "python3"
    },
    "language_info": {
      "codemirror_mode": {
        "name": "ipython",
        "version": 3
      },
      "file_extension": ".py",
      "mimetype": "text/x-python",
      "name": "python",
      "nbconvert_exporter": "python",
      "pygments_lexer": "ipython3",
      "version": "3.5.3"
    },
    "toc": {
      "base_numbering": 1,
      "nav_menu": {},
      "number_sections": false,
      "sideBar": true,
      "skip_h1_title": false,
      "title_cell": "Table of Contents",
      "title_sidebar": "Contents",
      "toc_cell": false,
      "toc_position": {},
      "toc_section_display": true,
      "toc_window_display": false
    },
    "varInspector": {
      "cols": {
        "lenName": 16,
        "lenType": 16,
        "lenVar": 40
      },
      "kernels_config": {
        "python": {
          "delete_cmd_postfix": "",
          "delete_cmd_prefix": "del ",
          "library": "var_list.py",
          "varRefreshCmd": "print(var_dic_list())"
        },
        "r": {
          "delete_cmd_postfix": ") ",
          "delete_cmd_prefix": "rm(",
          "library": "var_list.r",
          "varRefreshCmd": "cat(var_dic_list()) "
        }
      },
      "position": {
        "height": "528px",
        "left": "1066px",
        "right": "20px",
        "top": "120px",
        "width": "354px"
      },
      "types_to_exclude": [
        "module",
        "function",
        "builtin_function_or_method",
        "instance",
        "_Feature"
      ],
      "window_display": false
    }
  },
  "cells": [
    {
      "cell_type": "markdown",
      "metadata": {
        "id": "view-in-github",
        "colab_type": "text"
      },
      "source": [
        "<a href=\"https://colab.research.google.com/github/prteek/data-science/blob/master/GradientDescent.ipynb\" target=\"_parent\"><img src=\"https://colab.research.google.com/assets/colab-badge.svg\" alt=\"Open In Colab\"/></a>"
      ]
    },
    {
      "cell_type": "markdown",
      "metadata": {
        "colab_type": "text",
        "id": "pnKP-YobYihp"
      },
      "source": [
        "# Gradient Descent\n",
        "*Those who brag of their descent, brag on what they owe to others. -Seneca*"
      ]
    },
    {
      "cell_type": "code",
      "metadata": {
        "id": "zEW-o0bPMyg4",
        "colab_type": "code",
        "outputId": "5172ec5f-ee0c-498b-f2b1-55c50899b6d3",
        "colab": {
          "base_uri": "https://localhost:8080/",
          "height": 122
        }
      },
      "source": [
        "# This cell is not required to be executed (i.e. ignore any error) if Notebook is run locally or in Binder\n",
        "# Authorise and mount google drive to access code and data files\n",
        "\n",
        "project_folder = '/content/drive/My Drive/git_repos/data-science/'\n",
        "\n",
        "import os\n",
        "\n",
        "if os.path.isdir('/content'):\n",
        "    from google.colab import drive\n",
        "    drive.mount('/content/drive')\n",
        "\n",
        "    if not(os.path.isdir(project_folder)):\n",
        "      os.makedirs(project_folder)\n",
        "      print(\"new project folder created\")\n",
        "\n",
        "    os.chdir(project_folder)"
      ],
      "execution_count": 0,
      "outputs": [
        {
          "output_type": "stream",
          "text": [
            "Go to this URL in a browser: https://accounts.google.com/o/oauth2/auth?client_id=947318989803-6bn6qk8qdgf4n4g3pfee6491hc0brc4i.apps.googleusercontent.com&redirect_uri=urn%3Aietf%3Awg%3Aoauth%3A2.0%3Aoob&scope=email%20https%3A%2F%2Fwww.googleapis.com%2Fauth%2Fdocs.test%20https%3A%2F%2Fwww.googleapis.com%2Fauth%2Fdrive%20https%3A%2F%2Fwww.googleapis.com%2Fauth%2Fdrive.photos.readonly%20https%3A%2F%2Fwww.googleapis.com%2Fauth%2Fpeopleapi.readonly&response_type=code\n",
            "\n",
            "Enter your authorization code:\n",
            "··········\n",
            "Mounted at /content/drive\n"
          ],
          "name": "stdout"
        }
      ]
    },
    {
      "cell_type": "code",
      "metadata": {
        "colab_type": "code",
        "id": "gZMuFQV1Yiht",
        "colab": {}
      },
      "source": [
        "%%capture\n",
        "# To supress the output when calling another file\n",
        "%run ./HypothesisAndInference.ipynb"
      ],
      "execution_count": 0,
      "outputs": []
    },
    {
      "cell_type": "markdown",
      "metadata": {
        "colab_type": "text",
        "id": "hYcDCQa9Yih1"
      },
      "source": [
        "### Estimating the gradient\n",
        "Here's an example of estimatimg derivative of a single valued function."
      ]
    },
    {
      "cell_type": "code",
      "metadata": {
        "colab_type": "code",
        "id": "Q2-91bqeYih3",
        "outputId": "727e9eb5-427c-4673-a4bc-0af34be2008b",
        "colab": {}
      },
      "source": [
        "def difference_quotient(f,x,h=0.00001):\n",
        "    return (f(x+h) - f(x))/h\n",
        "\n",
        "def square(x):\n",
        "    return x**2\n",
        "\n",
        "def derivative_square(x):\n",
        "    return 2*x\n",
        "\n",
        "xs = range(-10,10)\n",
        "derivative_estimate = [difference_quotient(square, x, 0.00001) for x in xs]\n",
        "derivative_actual   = [derivative_square(x) for x in xs]\n",
        "\n",
        "plt.plot(xs, derivative_estimate,\"rx\",label=\"Estimate\")\n",
        "plt.plot(xs, derivative_estimate,\"b+\",label=\"Actual\")\n",
        "plt.title(\"Actual vs Estimated Derivatives for f(x) = x^2\")\n",
        "plt.xlabel('x values')\n",
        "plt.ylabel('d/dx')\n",
        "plt.legend(loc=\"upper center\")\n",
        "plt.grid()\n",
        "plt.show()"
      ],
      "execution_count": 0,
      "outputs": [
        {
          "output_type": "display_data",
          "data": {
            "image/png": "[encoded data removed]",
            "text/plain": [
              "<Figure size 432x288 with 1 Axes>"
            ]
          },
          "metadata": {
            "tags": []
          }
        }
      ]
    },
    {
      "cell_type": "code",
      "metadata": {
        "colab_type": "code",
        "id": "Jn4rTgeQYih-",
        "colab": {}
      },
      "source": [
        "def partial_difference_quotient(f, v, i, h=0.00001):\n",
        "    \"\"\"Compute the ith partial difference quotient of f at v\"\"\"\n",
        "    w = [v_j + (h if i==j else 0)  # add h to just the ith element of v\n",
        "        for j, v_j in enumerate(v)]\n",
        "    return (f(w) - f(v))/h\n",
        "\n",
        "def estimate_gradient(f, v, h=0.00001):\n",
        "    \"\"\"This is computationally expensive. If v has length n then estimate_gradient\n",
        "    has to evaluate f on 2n (f(w) and f(v)) different inputs.\"\"\"\n",
        "    return [partial_difference_quotient(f, v, i, h) for i, _ in enumerate(v)]"
      ],
      "execution_count": 0,
      "outputs": []
    },
    {
      "cell_type": "markdown",
      "metadata": {
        "colab_type": "text",
        "id": "e7U-RWgaYiiB"
      },
      "source": [
        "### Using the Gradient\n",
        "We'll just pick a random starting point and then take tiny steps in the opposite direction of gradient until we reach a point where the gradient is very small"
      ]
    },
    {
      "cell_type": "code",
      "metadata": {
        "colab_type": "code",
        "id": "SBD-Rb3tYiiD",
        "outputId": "addbd888-9383-49d1-efff-fbf284d3b704",
        "colab": {}
      },
      "source": [
        "def sum_of_squares_min(v): # Function to be minimised\n",
        "    return sum([v_i**2 for v_i in v])\n",
        "\n",
        "def step(v, direction, step_size):\n",
        "    \"\"\"move step_size in the direction from v\"\"\"\n",
        "    return [v_i + step_size*direction_i for v_i, direction_i in zip(v,direction)]\n",
        "\n",
        "def sum_of_squares_gradient(v): # actual gradient function\n",
        "    return [2*v_i for v_i in v]\n",
        "\n",
        "# Pick a random starting point\n",
        "v = [random.randint(-10,10) for i in range(3)]\n",
        "\n",
        "tolerance = 0.0000001\n",
        "\n",
        "while True:\n",
        "    gradient = sum_of_squares_gradient(v) # compute the gradient at v\n",
        "    next_v   = step(v, gradient, -0.01)   # take a negative gradient step\n",
        "    if distance(next_v,v) < tolerance:    # stop if we're converging\n",
        "        break\n",
        "    v = next_v                            # continue if we're not\n",
        "\n",
        "print(\"Minima with actual gradient:\", v)\n",
        "\n",
        "while True:\n",
        "    gradient = estimate_gradient(sum_of_squares, v) # compute the gradient at v\n",
        "    next_v   = step(v, gradient, -0.01)   # take a negative gradient step\n",
        "    if distance(next_v,v) < tolerance:    # stop if we're converging\n",
        "        break\n",
        "    v = next_v                            # continue if we're not\n",
        "    \n",
        "print(\"Minima with estimated gradient\", v)"
      ],
      "execution_count": 0,
      "outputs": [
        {
          "output_type": "stream",
          "text": [
            "Minima with actual gradient: [4.5336994434236267e-07, -2.720219666054177e-06, -4.080329499081268e-06]\n",
            "Minima with estimated gradient [-4.532650128367352e-07, -3.0992382484243446e-06, -4.233226777961894e-06]\n"
          ],
          "name": "stdout"
        }
      ]
    },
    {
      "cell_type": "markdown",
      "metadata": {
        "colab_type": "text",
        "id": "l3hPapRSYiiG"
      },
      "source": [
        "### Choosing the right Step Size\n",
        "Following options can be followed in selection of right step size:\n",
        "* Using a fixed step size\n",
        "* Gradually, shrinking the step size over time\n",
        "* At each step, choosing the step size that minimizes the value of the objective function (Computationally expensive)  \n",
        "\n",
        "The last option can be approximated by trying different step sizes and choosing the one that results in the smallest value of the objective function <br /> step_sizes = [100, 10, 1, 0.1, 0.01, 0.001, 0.0001, 0.00001]. <br />\n",
        "It is possible that some of the step sizes will result in invalid inputs for the function that is being minimized so a *safe apply* function is required"
      ]
    },
    {
      "cell_type": "code",
      "metadata": {
        "colab_type": "code",
        "id": "9yOhXZhwYiiI",
        "colab": {}
      },
      "source": [
        "def safe(f):\n",
        "    \"\"\"return a new function that is the same as f, \n",
        "    except that it outputs infinity whenever f produces an error\"\"\"\n",
        "    def safe_f(*args, **kwargs):\n",
        "        try:\n",
        "            return f(*args,**kwargs)\n",
        "        except:\n",
        "            return float('inf')\n",
        "    return safe_f"
      ],
      "execution_count": 0,
      "outputs": []
    },
    {
      "cell_type": "markdown",
      "metadata": {
        "colab_type": "text",
        "id": "ubeAN_peYiiM"
      },
      "source": [
        "### Putting it all together\n",
        "In general we'll have some target_fn that we want to minimize and we also have its gradient_fn which is gradient w.r.t. *theta* (and not function input data). \n",
        "For example target_fn can be the sum of error in a model over the entire dataset for a given set of *theta* and we want to find the *theta* for which errors are minimum. "
      ]
    },
    {
      "cell_type": "code",
      "metadata": {
        "colab_type": "code",
        "id": "ev06SenoYiiN",
        "colab": {}
      },
      "source": [
        "# It is implicit here that target_fn and gradient_fn operate over entire data set of x and y \n",
        "# and minimisation is performed w.r.t. theta\n",
        "\n",
        "def minimize_batch(target_fn, gradient_fn, theta_0, tolerance=0.0000001):\n",
        "    \"\"\"use gradient descent to find theta that minimizes target function\"\"\"\n",
        "    step_sizes = [100, 10, 1, 0.1, 0.01, 0.001, 0.0001, 0.00001]\n",
        "    target_fn  = safe(target_fn)   # safe version of target function\n",
        "    value      = target_fn(theta_0)# value we are minimising\n",
        "    next_value = value+1           # to enter while loop\n",
        "    next_theta = theta_0           # set theta to initial value\n",
        "    while abs(value - next_value)>tolerance:\n",
        "        theta                = next_theta\n",
        "        value                = next_value\n",
        "        gradient             = gradient_fn(theta)\n",
        "        next_thetas          = [step(theta, gradient, -step_size) for step_size in step_sizes]\n",
        "        # chose the theta that minimizes target_fn\n",
        "        target_fn_for_thetas = [target_fn(theta_i) for theta_i in next_thetas]\n",
        "        min_target_fn_index  = [i for i,val in enumerate(target_fn_for_thetas) \n",
        "                                if val==min(target_fn_for_thetas)]\n",
        "        next_theta           = next_thetas[min_target_fn_index[0]]\n",
        "        next_value           = target_fn(next_theta)\n",
        "\n",
        "    return theta\n",
        "\n",
        "# sometimes we'd like to maximize a function which we can do by minimising its negative\n",
        "\n",
        "def negate(f):\n",
        "    \"\"\"return a function that for any input x returns -f(x)\"\"\"\n",
        "    return lambda *args, **kwargs: -f(*args,**kwargs)\n",
        "\n",
        "def negate_all(f):\n",
        "    \"\"\"the same when f returns a list of numbers\"\"\"\n",
        "    return lambda *args, **kwargs: [-y for y in f(*args,**kwargs)]\n",
        "\n",
        "def maximize_batch(target_fn, gradient_fn, theta_0, tolerance=0.0000001):\n",
        "    return minimize_batch(negate(target_fn), negate_all(gradient_fn), theta_0, tolerance)"
      ],
      "execution_count": 0,
      "outputs": []
    },
    {
      "cell_type": "markdown",
      "metadata": {
        "colab_type": "text",
        "id": "GBD1Ula-YiiP"
      },
      "source": [
        "### Stochastic Gradient Descent\n",
        "Batch approach requires in each gradient step we make a prediction and compute the gradient for the whole data set, which makes each step take long time.<br/>\n",
        "\n",
        "Detailed explanation: https://www.youtube.com/watch?v=HLf4QNAwsd0\n",
        "\n",
        "Usually, the error functions are *additive* which means that the predictive error on the whole data set is simply the sum of the predictive errors for each data point. <br/> \n",
        "\n",
        "When this is the case, we can instead apply a technique called *stochastic gradient descent*, which computes the gradient (and takes a step) for only one point at a time. It cycles over our data repeatedly until it reaches a stopping point.<br/>\n",
        "\n",
        "During each cycle, we'll want to iterate through our data in random order:"
      ]
    },
    {
      "cell_type": "code",
      "metadata": {
        "colab_type": "code",
        "id": "WX35ZCyWYiiP",
        "colab": {}
      },
      "source": [
        "def in_random_order(data):\n",
        "    \"\"\"generator that returns the elements of data in random order\"\"\"\n",
        "    indexes = [i for i,_ in enumerate(data)]\n",
        "    random.shuffle(indexes)\n",
        "    for i in indexes:\n",
        "        yield data[i]\n",
        "\n",
        "# This approach leaves the possibility that we might circle around near minimum forever, \n",
        "# so whenever we stop getting improvements we'll decrease step size and eventually stop:\n",
        "\n",
        "# Here only target_fn operates over entire data set but gradient_fn operates over single values of x and y\n",
        "def minimize_stochastic(target_fn, gradient_fn, x,y, theta_0, alpha_0=0.01, iterations_threshold=10):\n",
        "    data    = list(zip(x,y)) \n",
        "    theta   = theta_0    # initial guess\n",
        "    alpha   = alpha_0    # initial step size\n",
        "    min_theta, min_value = None, float(\"inf\")  # the minimum value so far\n",
        "    iterations_with_no_improvement = 0\n",
        "    \n",
        "    # if we ever go 10 iterations with no improvement, stop\n",
        "    while iterations_with_no_improvement < iterations_threshold:\n",
        "        value = sum(target_fn(x_i, y_i, theta) for x_i, y_i in data)\n",
        "        \n",
        "        if value < min_value:\n",
        "            # if we've found a new minimum, remember it\n",
        "            # and go back to the original step size\n",
        "            min_theta, min_value = theta, value\n",
        "            iterations_with_no_improvement = 0\n",
        "            alpha = alpha_0\n",
        "        else:\n",
        "            # otherwise we're not improving, so try shrinking the step size\n",
        "            iterations_with_no_improvement += 1\n",
        "            alpha *= 0.9\n",
        "            \n",
        "        # and take a gradient step for each of the data points\n",
        "        for x_i, y_i in in_random_order(data):\n",
        "            gradient_i = gradient_fn(x_i, y_i, theta)\n",
        "            theta      = vector_subtract(theta, scalar_multiply(alpha, gradient_i))\n",
        "    \n",
        "    return min_theta \n",
        "\n",
        "\n",
        "def maximize_stochastic(target_fn, gradient_fn, x,y, theta_0, alpha_0=0.01):\n",
        "    return minimize_stochastic(negate(target_fn), negate_all(gradient_fn), x, y, theta_0, alpha_0)"
      ],
      "execution_count": 0,
      "outputs": []
    }
  ]
}