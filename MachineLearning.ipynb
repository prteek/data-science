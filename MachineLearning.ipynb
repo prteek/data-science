{
  "nbformat": 4,
  "nbformat_minor": 0,
  "metadata": {
    "kernelspec": {
      "display_name": "Python 3",
      "language": "python",
      "name": "python3"
    },
    "language_info": {
      "codemirror_mode": {
        "name": "ipython",
        "version": 3
      },
      "file_extension": ".py",
      "mimetype": "text/x-python",
      "name": "python",
      "nbconvert_exporter": "python",
      "pygments_lexer": "ipython3",
      "version": "3.5.3"
    },
    "toc": {
      "base_numbering": 1,
      "nav_menu": {},
      "number_sections": false,
      "sideBar": true,
      "skip_h1_title": false,
      "title_cell": "Table of Contents",
      "title_sidebar": "Contents",
      "toc_cell": false,
      "toc_position": {},
      "toc_section_display": true,
      "toc_window_display": false
    },
    "varInspector": {
      "cols": {
        "lenName": 16,
        "lenType": 16,
        "lenVar": 40
      },
      "kernels_config": {
        "python": {
          "delete_cmd_postfix": "",
          "delete_cmd_prefix": "del ",
          "library": "var_list.py",
          "varRefreshCmd": "print(var_dic_list())"
        },
        "r": {
          "delete_cmd_postfix": ") ",
          "delete_cmd_prefix": "rm(",
          "library": "var_list.r",
          "varRefreshCmd": "cat(var_dic_list()) "
        }
      },
      "position": {
        "height": "638px",
        "left": "1070px",
        "right": "20px",
        "top": "120px",
        "width": "350px"
      },
      "types_to_exclude": [
        "module",
        "function",
        "builtin_function_or_method",
        "instance",
        "_Feature"
      ],
      "window_display": false
    },
    "colab": {
      "name": "MachineLearning.ipynb",
      "version": "0.3.2",
      "provenance": [],
      "collapsed_sections": [],
      "include_colab_link": true
    }
  },
  "cells": [
    {
      "cell_type": "markdown",
      "metadata": {
        "id": "view-in-github",
        "colab_type": "text"
      },
      "source": [
        "<a href=\"https://colab.research.google.com/github/prteek/data-science/blob/master/MachineLearning.ipynb\" target=\"_parent\"><img src=\"https://colab.research.google.com/assets/colab-badge.svg\" alt=\"Open In Colab\"/></a>"
      ]
    },
    {
      "cell_type": "markdown",
      "metadata": {
        "id": "vJ4LVmnnZJKZ",
        "colab_type": "text"
      },
      "source": [
        "# Machine Learning\n",
        "*I am always ready to learn although I do not always like being taught. -Winston Churchill*"
      ]
    },
    {
      "cell_type": "code",
      "metadata": {
        "id": "9yA9cLeJZMdq",
        "colab_type": "code",
        "colab": {}
      },
      "source": [
        "# This cell is not required to be executed (i.e. ignore any error) if Notebook is run locally or in Binder\n",
        "# Authorise and mount google drive to access code and data files\n",
        "import os\n",
        "from google.colab import drive\n",
        "drive.mount('/content/drive')\n",
        "project_folder = '/content/drive/My Drive/git_repos/data-science/'\n",
        "os.chdir(project_folder)"
      ],
      "execution_count": 0,
      "outputs": []
    },
    {
      "cell_type": "code",
      "metadata": {
        "id": "OZzo_u2EZJKb",
        "colab_type": "code",
        "colab": {}
      },
      "source": [
        "%%capture\n",
        "# To supress the output when calling another file\n",
        "%run ./WorkingWithData.ipynb"
      ],
      "execution_count": 0,
      "outputs": []
    },
    {
      "cell_type": "markdown",
      "metadata": {
        "id": "-XzFWlX3ZJKi",
        "colab_type": "text"
      },
      "source": [
        "### Overfitting and underfitting\n",
        "The simplest way to address problem of over or underfitting is to split data set, so that a part of it is used to train the model after which we measure the model's performance on the remaining third.\n",
        "\n",
        "Another problem can be if we use test/train split not just as to judge a model but also to choose from among many models. In that case, although each individual model may not be overfit, the \"chose a model the performs best on test set\" is a meta-training that makes the test set function as a second training set. (Of course the model that performed the best on test set is going to perform well on the test set.)<br/>\n",
        "In such situation, we should split the data into three parts: a *training* set for building models, a *validation* set for choosing among trained models, and a *test* set for judging a final model."
      ]
    },
    {
      "cell_type": "code",
      "metadata": {
        "id": "tg0A7q7SZJKk",
        "colab_type": "code",
        "outputId": "fd2c544d-5829-40bb-c4a9-d302dbd53a0d",
        "colab": {}
      },
      "source": [
        "def split_data(data, prob):\n",
        "    \"\"\"split data into fractions prob, (1-prob)\"\"\"\n",
        "    results = [], []\n",
        "    for row in data:\n",
        "        if random.random() <= prob:\n",
        "            results[0].append(row)\n",
        "        else:\n",
        "            results[1].append(row)\n",
        "    return results\n",
        "\n",
        "def train_test_split(x,y, test_pct):\n",
        "    data = list(zip(x,y))\n",
        "    test, train = split_data(data, test_pct)\n",
        "    x_test, y_test   = zip(*test)\n",
        "    x_train, y_train = zip(*train)  \n",
        "    return x_train, x_test, y_train, y_test\n",
        "\n",
        "y = [i for i in range(100,110)]\n",
        "x = [j for j in range(10)]\n",
        "test_pct = 0.3\n",
        "\n",
        "print(train_test_split(x,y, test_pct))"
      ],
      "execution_count": 0,
      "outputs": [
        {
          "output_type": "stream",
          "text": [
            "((0, 1, 2, 4, 5, 6, 8), (100, 101, 102, 104, 105, 106, 108), (3, 7, 9), (103, 107, 109))\n"
          ],
          "name": "stdout"
        }
      ]
    },
    {
      "cell_type": "markdown",
      "metadata": {
        "id": "wjo5YYV7ZJKq",
        "colab_type": "text"
      },
      "source": [
        "### Correctness\n",
        "\n",
        "|         *         |   SPAM           |  not SPAM      |\n",
        "|:------------------|:----------------:|:--------------:|\n",
        "|predict \"Spam\"     | True Positive    | False Positive |\n",
        "|predict \"not Spam\" | False Negative   | True Negative  |\n",
        "\n",
        "**Accuracy** Fraction of correct predictions  \n",
        "**Precision** How accurate our *positive* predictions were  \n",
        "**Recall** What fraction of positives, the model identified  \n",
        "\n",
        "*Accuracy* by itself can be misleading consider this:\n",
        "\n",
        "|      *    |   Leukemia |  no Leukemia |   Total   |\n",
        "|:----------|:----------:|:------------:|:---------:|\n",
        "|\"Luke\"     | 70         | 4,930        | 5,000     |\n",
        "|not \"Luke\" | 13,930     | 981,070      | 995,000   |\n",
        "|total      | 14,000.    | 986,000      | 1,000,000 |\n"
      ]
    },
    {
      "cell_type": "code",
      "metadata": {
        "id": "aK2FMGbmZJKr",
        "colab_type": "code",
        "outputId": "216d012e-a92e-4e02-cde5-1bd8f49e8242",
        "colab": {}
      },
      "source": [
        "def accuracy(tp, fp, fn, tn):\n",
        "    correct = tp + tn\n",
        "    total   = tp + fp + tn + fn\n",
        "    return correct/total\n",
        "\n",
        "def precision(tp, fp, fn, tn):\n",
        "    return (tp)/(tp+fp)\n",
        "\n",
        "def recall(tp, fp, fn, tn):\n",
        "    return (tp)/(tp+fn)\n",
        "\n",
        "print(\"Accuracy (very high):\", round(accuracy(70,4930,13930,981070),4))\n",
        "print(\"Precision (poor):\", round(precision(70,4930,13930,981070),4))\n",
        "print(\"Recall (extremely poor):\", round(recall(70,4930,13930,981070),4))\n",
        "\n",
        "def f1_score(tp, fp, fn, tn):\n",
        "    p = precision(tp, fp, fn, tn)\n",
        "    r = recall(tp, fp, fn, tn)\n",
        "    return 2/(1/p+1/r)\n",
        "\n",
        "print(\"F1 Score (extremely poor):\", round(f1_score(70,4930,13930,981070),4))"
      ],
      "execution_count": 0,
      "outputs": [
        {
          "output_type": "stream",
          "text": [
            "Accuracy (very high): 0.9811\n",
            "Precision (poor): 0.014\n",
            "Recall (extremely poor): 0.005\n",
            "F1 Score (extremely poor): 0.0074\n"
          ],
          "name": "stdout"
        }
      ]
    }
  ]
}