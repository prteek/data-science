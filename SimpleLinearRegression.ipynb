{
  "nbformat": 4,
  "nbformat_minor": 0,
  "metadata": {
    "colab": {
      "name": "SimpleLinearRegression.ipynb",
      "provenance": [],
      "collapsed_sections": [],
      "include_colab_link": true
    },
    "kernelspec": {
      "display_name": "Python 3",
      "language": "python",
      "name": "python3"
    },
    "language_info": {
      "codemirror_mode": {
        "name": "ipython",
        "version": 3
      },
      "file_extension": ".py",
      "mimetype": "text/x-python",
      "name": "python",
      "nbconvert_exporter": "python",
      "pygments_lexer": "ipython3",
      "version": "3.5.3"
    },
    "toc": {
      "base_numbering": 1,
      "nav_menu": {},
      "number_sections": false,
      "sideBar": true,
      "skip_h1_title": false,
      "title_cell": "Table of Contents",
      "title_sidebar": "Contents",
      "toc_cell": false,
      "toc_position": {},
      "toc_section_display": true,
      "toc_window_display": false
    },
    "varInspector": {
      "cols": {
        "lenName": 16,
        "lenType": 16,
        "lenVar": 40
      },
      "kernels_config": {
        "python": {
          "delete_cmd_postfix": "",
          "delete_cmd_prefix": "del ",
          "library": "var_list.py",
          "varRefreshCmd": "print(var_dic_list())"
        },
        "r": {
          "delete_cmd_postfix": ") ",
          "delete_cmd_prefix": "rm(",
          "library": "var_list.r",
          "varRefreshCmd": "cat(var_dic_list()) "
        }
      },
      "types_to_exclude": [
        "module",
        "function",
        "builtin_function_or_method",
        "instance",
        "_Feature"
      ],
      "window_display": false
    }
  },
  "cells": [
    {
      "cell_type": "markdown",
      "metadata": {
        "id": "view-in-github",
        "colab_type": "text"
      },
      "source": [
        "<a href=\"https://colab.research.google.com/github/prteek/data-science/blob/master/SimpleLinearRegression.ipynb\" target=\"_parent\"><img src=\"https://colab.research.google.com/assets/colab-badge.svg\" alt=\"Open In Colab\"/></a>"
      ]
    },
    {
      "cell_type": "markdown",
      "metadata": {
        "colab_type": "text",
        "id": "YRLYkXdxZiSw"
      },
      "source": [
        "# Simple Linear Regression\n",
        "*Art, like mortality, consists in drawing the line somewhere. -G.K. Chesterton*"
      ]
    },
    {
      "cell_type": "code",
      "metadata": {
        "id": "g7NYgSCBQNPT",
        "colab_type": "code",
        "colab": {}
      },
      "source": [
        "# This cell is not required to be executed (i.e. ignore any error) if Notebook is run locally or in Binder\n",
        "# Authorise and mount google drive to access code and data files\n",
        "\n",
        "project_folder = '/content/drive/My Drive/git_repos/data-science/'\n",
        "\n",
        "import os\n",
        "\n",
        "if os.path.isdir('/content'):\n",
        "    from google.colab import drive\n",
        "    drive.mount('/content/drive')\n",
        "\n",
        "    if not(os.path.isdir(project_folder)):\n",
        "      os.makedirs(project_folder)\n",
        "      print(\"new project folder created\")\n",
        "\n",
        "    os.chdir(project_folder)"
      ],
      "execution_count": 0,
      "outputs": []
    },
    {
      "cell_type": "code",
      "metadata": {
        "colab_type": "code",
        "id": "cg4FnT8HZiSz",
        "colab": {}
      },
      "source": [
        "%%capture\n",
        "# To supress the output when calling Statistics file\n",
        "%run ./NaiveBayes.ipynb\n"
      ],
      "execution_count": 0,
      "outputs": []
    },
    {
      "cell_type": "code",
      "metadata": {
        "colab_type": "code",
        "id": "lCFdDc4yZiS6",
        "colab": {}
      },
      "source": [
        "def predict(alpha, beta, x_i):\n",
        "    return beta*x_i + alpha\n",
        "\n",
        "\n",
        "def error(alpha, beta, x_i, y_i):\n",
        "    \"\"\"the error from predicting beta*x_i+ alpha when actual value is y_i\"\"\"\n",
        "    return y_i - predict(alpha, beta, x_i)\n",
        "\n",
        "def sum_of_squared_errors(alpha, beta, x, y):\n",
        "    return sum(error(alpha, beta, x_i, y_i)**2\n",
        "              for x_i, y_i in zip(x,y))\n",
        "\n",
        "def least_squares_fit(x,y):\n",
        "    \"\"\"given training values for x and y, find the least squares values of alpha, beta\"\"\"\n",
        "    beta   = correlation(x, y)*standard_deviation(y)/standard_deviation(x)\n",
        "    alpha  = mean(y) - beta*mean(x)\n",
        "    return alpha, beta\n"
      ],
      "execution_count": 0,
      "outputs": []
    },
    {
      "cell_type": "code",
      "metadata": {
        "colab_type": "code",
        "id": "-UEgmJjTZiS-",
        "outputId": "6b847f16-50da-4922-852b-0363c02d8f38",
        "colab": {}
      },
      "source": [
        "alpha, beta = least_squares_fit(num_friends_good, daily_minutes_good)\n",
        "print(\"alpha: \",round(alpha,2), \"beta: \",round(beta,3))\n",
        "\n",
        "plt.scatter(num_friends_good, daily_minutes_good)\n",
        "plt.plot(num_friends_good, [predict(alpha, beta, x_i) for x_i in num_friends_good], color='black')\n",
        "plt.title(\"Simple linear regression model\")\n",
        "plt.xlabel(\"# of friends\")\n",
        "plt.ylabel(\"daily minutes\")\n",
        "plt.grid()"
      ],
      "execution_count": 0,
      "outputs": [
        {
          "output_type": "stream",
          "text": [
            "alpha:  22.95 beta:  0.904\n"
          ],
          "name": "stdout"
        },
        {
          "output_type": "display_data",
          "data": {
            "image/png": "[encoded data removed]",
            "text/plain": [
              "<Figure size 432x288 with 1 Axes>"
            ]
          },
          "metadata": {
            "tags": []
          }
        }
      ]
    },
    {
      "cell_type": "code",
      "metadata": {
        "colab_type": "code",
        "id": "woZcmtk4ZiTD",
        "outputId": "cab3bbc6-eff0-475e-c4ac-90623dc622e4",
        "colab": {}
      },
      "source": [
        "def total_sum_of_squares(y):\n",
        "    \"\"\"the total squared variation of y_i's from their mean\"\"\"\n",
        "    return sum(v**2 for v in de_mean(y))\n",
        "\n",
        "def r_squared(alpha, beta, x, y):\n",
        "    \"\"\"the fraction of variation in y captured by the model, which equals \n",
        "    1- the fraction of variation in y not captured by the model\"\"\"\n",
        "    return 1.0 - (sum_of_squared_errors(alpha, beta, x, y)/total_sum_of_squares(y))\n",
        "\n",
        "r_squared(alpha, beta, num_friends_good, daily_minutes_good)"
      ],
      "execution_count": 0,
      "outputs": [
        {
          "output_type": "execute_result",
          "data": {
            "text/plain": [
              "0.3291078377836305"
            ]
          },
          "metadata": {
            "tags": []
          },
          "execution_count": 18
        }
      ]
    },
    {
      "cell_type": "markdown",
      "metadata": {
        "colab_type": "text",
        "id": "n75N9UwtZiTH"
      },
      "source": [
        "#### Using gradiend descent"
      ]
    },
    {
      "cell_type": "code",
      "metadata": {
        "colab_type": "code",
        "id": "CJki5wYLZiTx",
        "outputId": "c160471d-bb9e-4b79-f3e7-55111edf5353",
        "colab": {}
      },
      "source": [
        "def squared_error(x_i, y_i, theta):\n",
        "    # theta = [alpha, beta]\n",
        "    alpha, beta = theta\n",
        "    return error(alpha, beta, x_i, y_i)**2\n",
        "\n",
        "def squared_error_gradient(x_i, y_i, theta):\n",
        "    alpha, beta = theta\n",
        "    return [-2*error(alpha, beta, x_i, y_i),  # alpha partial derivative\n",
        "           -2*error(alpha, beta, x_i, y_i)*x_i] # beta partial derivative\n",
        "\n",
        "# choose random value to start\n",
        "random.seed(0)\n",
        "theta = [random.random(), random.random()]\n",
        "alpha, beta = minimize_stochastic(squared_error,\n",
        "                                  squared_error_gradient,\n",
        "                                  num_friends_good,\n",
        "                                  daily_minutes_good,\n",
        "                                  theta,\n",
        "                                  0.0001)\n",
        "\n",
        "print(\"alpha: \",round(alpha,2), \"beta: \",round(beta,3))"
      ],
      "execution_count": 0,
      "outputs": [
        {
          "output_type": "stream",
          "text": [
            "alpha:  22.74 beta:  0.922\n"
          ],
          "name": "stdout"
        }
      ]
    }
  ]
}